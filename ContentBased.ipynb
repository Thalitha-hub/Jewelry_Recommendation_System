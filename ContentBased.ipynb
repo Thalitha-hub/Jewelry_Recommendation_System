{
 "cells": [
  {
   "cell_type": "markdown",
   "id": "d1190b32",
   "metadata": {},
   "source": [
    "###### Getting Started: Loading Libraries"
   ]
  },
  {
   "cell_type": "code",
   "execution_count": null,
   "id": "0b33be02",
   "metadata": {},
   "outputs": [],
   "source": [
    "import pandas as pd\n",
    "import numpy as np \n",
    "import matplotlib.pyplot as plt\n",
    "from sklearn.feature_extraction.text import CountVectorizer\n",
    "from sklearn.metrics.pairwise import cosine_similarity"
   ]
  },
  {
   "cell_type": "markdown",
   "id": "57fc22eb",
   "metadata": {},
   "source": [
    "Loading the Dataset\n"
   ]
  },
  {
   "cell_type": "markdown",
   "id": "f14bec91",
   "metadata": {},
   "source": []
  },
  {
   "cell_type": "code",
   "execution_count": null,
   "id": "1985ea56",
   "metadata": {},
   "outputs": [],
   "source": [
    "df_j = pd.read_csv('process.csv')\n"
   ]
  },
  {
   "cell_type": "markdown",
   "id": "826ab55e",
   "metadata": {},
   "source": [
    "We have our dataframe ready, so let`s visualize it"
   ]
  },
  {
   "cell_type": "code",
   "execution_count": null,
   "id": "d8c71245",
   "metadata": {
    "scrolled": true
   },
   "outputs": [
    {
     "data": {
      "text/html": [
       "<div>\n",
       "<style scoped>\n",
       "    .dataframe tbody tr th:only-of-type {\n",
       "        vertical-align: middle;\n",
       "    }\n",
       "\n",
       "    .dataframe tbody tr th {\n",
       "        vertical-align: top;\n",
       "    }\n",
       "\n",
       "    .dataframe thead th {\n",
       "        text-align: right;\n",
       "    }\n",
       "</style>\n",
       "<table border=\"1\" class=\"dataframe\">\n",
       "  <thead>\n",
       "    <tr style=\"text-align: right;\">\n",
       "      <th></th>\n",
       "      <th>id</th>\n",
       "      <th>Name</th>\n",
       "      <th>Brand</th>\n",
       "      <th>Product_Type</th>\n",
       "      <th>Search_Price</th>\n",
       "      <th>Gender</th>\n",
       "      <th>AW_Deep_Link</th>\n",
       "      <th>Merchant_Image</th>\n",
       "      <th>Color</th>\n",
       "    </tr>\n",
       "  </thead>\n",
       "  <tbody>\n",
       "    <tr>\n",
       "      <th>0</th>\n",
       "      <td>65187</td>\n",
       "      <td>Bauchnabelpiercing Strass Kreuz mit Gothic Flügel</td>\n",
       "      <td>Crysal Jewelry</td>\n",
       "      <td>Bauchnabel Piercing</td>\n",
       "      <td>15.00</td>\n",
       "      <td>Unisex</td>\n",
       "      <td>https://t.adcell.com/p/click?promoId=153907&amp;sl...</td>\n",
       "      <td>https://cdn.shopify.com/s/files/1/0525/0809/87...</td>\n",
       "      <td>silber</td>\n",
       "    </tr>\n",
       "    <tr>\n",
       "      <th>1</th>\n",
       "      <td>65186</td>\n",
       "      <td>Bauchnabelpiercing aus Chirurgenstahl mit 925e...</td>\n",
       "      <td>Crysal Jewelry</td>\n",
       "      <td>Bauchnabel Piercing</td>\n",
       "      <td>13.50</td>\n",
       "      <td>Unisex</td>\n",
       "      <td>https://t.adcell.com/p/click?promoId=153907&amp;sl...</td>\n",
       "      <td>https://cdn.shopify.com/s/files/1/0525/0809/87...</td>\n",
       "      <td>weiß</td>\n",
       "    </tr>\n",
       "    <tr>\n",
       "      <th>2</th>\n",
       "      <td>65185</td>\n",
       "      <td>Bauchnabelpiercing Titan Zirkonia CZ 925er Sil...</td>\n",
       "      <td>Crysal Jewelry</td>\n",
       "      <td>Bauchnabel Piercing</td>\n",
       "      <td>14.99</td>\n",
       "      <td>Unisex</td>\n",
       "      <td>https://t.adcell.com/p/click?promoId=153907&amp;sl...</td>\n",
       "      <td>https://cdn.shopify.com/s/files/1/0525/0809/87...</td>\n",
       "      <td>weiß</td>\n",
       "    </tr>\n",
       "    <tr>\n",
       "      <th>3</th>\n",
       "      <td>65184</td>\n",
       "      <td>Bauchnabelpiercing Bioflex PTFE flexibel Schwa...</td>\n",
       "      <td>Crysal Jewelry</td>\n",
       "      <td>Bauchnabel Piercing</td>\n",
       "      <td>3.99</td>\n",
       "      <td>Herren</td>\n",
       "      <td>https://t.adcell.com/p/click?promoId=153907&amp;sl...</td>\n",
       "      <td>https://cdn.shopify.com/s/files/1/0525/0809/87...</td>\n",
       "      <td>gold</td>\n",
       "    </tr>\n",
       "    <tr>\n",
       "      <th>4</th>\n",
       "      <td>65183</td>\n",
       "      <td>Elegantes Bauchnabelpiercing Anhänger mit *Zir...</td>\n",
       "      <td>Crysal Jewelry</td>\n",
       "      <td>Bauchnabel Piercing</td>\n",
       "      <td>7.99</td>\n",
       "      <td>Unisex</td>\n",
       "      <td>https://t.adcell.com/p/click?promoId=153907&amp;sl...</td>\n",
       "      <td>https://cdn.shopify.com/s/files/1/0525/0809/87...</td>\n",
       "      <td>weiß</td>\n",
       "    </tr>\n",
       "  </tbody>\n",
       "</table>\n",
       "</div>"
      ],
      "text/plain": [
       "      id                                               Name           Brand  \\\n",
       "0  65187  Bauchnabelpiercing Strass Kreuz mit Gothic Flügel  Crysal Jewelry   \n",
       "1  65186  Bauchnabelpiercing aus Chirurgenstahl mit 925e...  Crysal Jewelry   \n",
       "2  65185  Bauchnabelpiercing Titan Zirkonia CZ 925er Sil...  Crysal Jewelry   \n",
       "3  65184  Bauchnabelpiercing Bioflex PTFE flexibel Schwa...  Crysal Jewelry   \n",
       "4  65183  Elegantes Bauchnabelpiercing Anhänger mit *Zir...  Crysal Jewelry   \n",
       "\n",
       "          Product_Type  Search_Price  Gender  \\\n",
       "0  Bauchnabel Piercing         15.00  Unisex   \n",
       "1  Bauchnabel Piercing         13.50  Unisex   \n",
       "2  Bauchnabel Piercing         14.99  Unisex   \n",
       "3  Bauchnabel Piercing          3.99  Herren   \n",
       "4  Bauchnabel Piercing          7.99  Unisex   \n",
       "\n",
       "                                        AW_Deep_Link  \\\n",
       "0  https://t.adcell.com/p/click?promoId=153907&sl...   \n",
       "1  https://t.adcell.com/p/click?promoId=153907&sl...   \n",
       "2  https://t.adcell.com/p/click?promoId=153907&sl...   \n",
       "3  https://t.adcell.com/p/click?promoId=153907&sl...   \n",
       "4  https://t.adcell.com/p/click?promoId=153907&sl...   \n",
       "\n",
       "                                      Merchant_Image   Color  \n",
       "0  https://cdn.shopify.com/s/files/1/0525/0809/87...  silber  \n",
       "1  https://cdn.shopify.com/s/files/1/0525/0809/87...    weiß  \n",
       "2  https://cdn.shopify.com/s/files/1/0525/0809/87...    weiß  \n",
       "3  https://cdn.shopify.com/s/files/1/0525/0809/87...    gold  \n",
       "4  https://cdn.shopify.com/s/files/1/0525/0809/87...    weiß  "
      ]
     },
     "execution_count": 3,
     "metadata": {},
     "output_type": "execute_result"
    }
   ],
   "source": [
    "# display the the five first rows\n",
    "df_j.head()"
   ]
  },
  {
   "cell_type": "code",
   "execution_count": null,
   "id": "ddc47793",
   "metadata": {},
   "outputs": [],
   "source": []
  },
  {
   "cell_type": "code",
   "execution_count": null,
   "id": "5a4b961a",
   "metadata": {},
   "outputs": [
    {
     "name": "stdout",
     "output_type": "stream",
     "text": [
      "<class 'pandas.core.frame.DataFrame'>\n",
      "RangeIndex: 23966 entries, 0 to 23965\n",
      "Data columns (total 9 columns):\n",
      " #   Column          Non-Null Count  Dtype  \n",
      "---  ------          --------------  -----  \n",
      " 0   id              23966 non-null  int64  \n",
      " 1   Name            23966 non-null  object \n",
      " 2   Brand           23966 non-null  object \n",
      " 3   Product_Type    23948 non-null  object \n",
      " 4   Search_Price    23966 non-null  float64\n",
      " 5   Gender          23966 non-null  object \n",
      " 6   AW_Deep_Link    23966 non-null  object \n",
      " 7   Merchant_Image  23962 non-null  object \n",
      " 8   Color           23954 non-null  object \n",
      "dtypes: float64(1), int64(1), object(7)\n",
      "memory usage: 1.6+ MB\n"
     ]
    }
   ],
   "source": [
    "# check the data type and if there is any missing value\n",
    "df_j.info()"
   ]
  },
  {
   "cell_type": "code",
   "execution_count": null,
   "id": "47ef7d90",
   "metadata": {},
   "outputs": [
    {
     "name": "stdout",
     "output_type": "stream",
     "text": [
      "['id' 'Name' 'Brand' 'Product_Type' 'Search_Price' 'Gender' 'AW_Deep_Link'\n",
      " 'Merchant_Image' 'Color']\n"
     ]
    }
   ],
   "source": [
    "# print all columns of the dataset\n",
    "print(df_j.columns.values)"
   ]
  },
  {
   "cell_type": "markdown",
   "id": "4698ddfe",
   "metadata": {},
   "source": [
    "### Onvisualizing the dataset, you may have noticed that it has many extra info about the data. We don’t need all of them. So, we choose keywords, cast, genres, director and title column to use as our feature set."
   ]
  },
  {
   "cell_type": "markdown",
   "id": "deb2f23b",
   "metadata": {},
   "source": [
    "### for this project we decide to use some columns instead of all the columns "
   ]
  },
  {
   "cell_type": "code",
   "execution_count": 6,
   "id": "1b90772d",
   "metadata": {},
   "outputs": [],
   "source": [
    "## cols to be used for further analysis\n",
    "\n",
    "df_j = df_j[['Name','Brand','Product_Type','Color']]"
   ]
  },
  {
   "cell_type": "code",
   "execution_count": 7,
   "id": "00811690",
   "metadata": {
    "scrolled": true
   },
   "outputs": [
    {
     "data": {
      "text/html": [
       "<div>\n",
       "<style scoped>\n",
       "    .dataframe tbody tr th:only-of-type {\n",
       "        vertical-align: middle;\n",
       "    }\n",
       "\n",
       "    .dataframe tbody tr th {\n",
       "        vertical-align: top;\n",
       "    }\n",
       "\n",
       "    .dataframe thead th {\n",
       "        text-align: right;\n",
       "    }\n",
       "</style>\n",
       "<table border=\"1\" class=\"dataframe\">\n",
       "  <thead>\n",
       "    <tr style=\"text-align: right;\">\n",
       "      <th></th>\n",
       "      <th>Name</th>\n",
       "      <th>Brand</th>\n",
       "      <th>Product_Type</th>\n",
       "      <th>Color</th>\n",
       "    </tr>\n",
       "  </thead>\n",
       "  <tbody>\n",
       "    <tr>\n",
       "      <th>0</th>\n",
       "      <td>Bauchnabelpiercing Strass Kreuz mit Gothic Flügel</td>\n",
       "      <td>Crysal Jewelry</td>\n",
       "      <td>Bauchnabel Piercing</td>\n",
       "      <td>silber</td>\n",
       "    </tr>\n",
       "    <tr>\n",
       "      <th>1</th>\n",
       "      <td>Bauchnabelpiercing aus Chirurgenstahl mit 925e...</td>\n",
       "      <td>Crysal Jewelry</td>\n",
       "      <td>Bauchnabel Piercing</td>\n",
       "      <td>weiß</td>\n",
       "    </tr>\n",
       "  </tbody>\n",
       "</table>\n",
       "</div>"
      ],
      "text/plain": [
       "                                                Name           Brand  \\\n",
       "0  Bauchnabelpiercing Strass Kreuz mit Gothic Flügel  Crysal Jewelry   \n",
       "1  Bauchnabelpiercing aus Chirurgenstahl mit 925e...  Crysal Jewelry   \n",
       "\n",
       "          Product_Type   Color  \n",
       "0  Bauchnabel Piercing  silber  \n",
       "1  Bauchnabel Piercing    weiß  "
      ]
     },
     "execution_count": 7,
     "metadata": {},
     "output_type": "execute_result"
    }
   ],
   "source": [
    "df_j.head(2)\n"
   ]
  },
  {
   "cell_type": "code",
   "execution_count": 8,
   "id": "b0a729cd",
   "metadata": {
    "scrolled": true
   },
   "outputs": [
    {
     "data": {
      "text/plain": [
       "Name             0\n",
       "Brand            0\n",
       "Product_Type    18\n",
       "Color           12\n",
       "dtype: int64"
      ]
     },
     "execution_count": 8,
     "metadata": {},
     "output_type": "execute_result"
    }
   ],
   "source": [
    "# check missing data \n",
    "df_j.isnull().sum()"
   ]
  },
  {
   "cell_type": "markdown",
   "id": "5eff86ee",
   "metadata": {},
   "source": [
    "As you may can noticed that some columns have NaN data points that will create a problem for us, so what we will do is instead of NaN values we will replace it with empty string ('')."
   ]
  },
  {
   "cell_type": "code",
   "execution_count": 9,
   "id": "79f669f6",
   "metadata": {},
   "outputs": [],
   "source": [
    "\n",
    "# remove nan value\n",
    "df_j.dropna(inplace = True)"
   ]
  },
  {
   "cell_type": "code",
   "execution_count": 10,
   "id": "76cdaff4",
   "metadata": {},
   "outputs": [
    {
     "data": {
      "text/plain": [
       "9805"
      ]
     },
     "execution_count": 10,
     "metadata": {},
     "output_type": "execute_result"
    }
   ],
   "source": [
    "# check duplicated \n",
    "df_j.duplicated().sum()\n"
   ]
  },
  {
   "cell_type": "markdown",
   "id": "773953a0",
   "metadata": {},
   "source": [
    "Let combine  some  columns \n"
   ]
  },
  {
   "cell_type": "code",
   "execution_count": 11,
   "id": "eefc5ef9",
   "metadata": {},
   "outputs": [
    {
     "data": {
      "text/plain": [
       "Index(['Name', 'Brand', 'Product_Type', 'Color'], dtype='object')"
      ]
     },
     "execution_count": 11,
     "metadata": {},
     "output_type": "execute_result"
    }
   ],
   "source": [
    "df_j.columns"
   ]
  },
  {
   "cell_type": "code",
   "execution_count": 16,
   "id": "85567245",
   "metadata": {},
   "outputs": [],
   "source": [
    "def combine_features(row):\n",
    "    return row['Name']+' '+row['Brand']+' '+row['Product_Type']+'  '+row['Color']"
   ]
  },
  {
   "cell_type": "markdown",
   "id": "7223d3fb",
   "metadata": {},
   "source": [
    "Now, we need to call this function over each row of our dataframe. "
   ]
  },
  {
   "cell_type": "markdown",
   "id": "6068a0db",
   "metadata": {},
   "source": [
    "applying combine_feature method over each row of Dataframe and storing the combined string in \"combined_features\" column"
   ]
  },
  {
   "cell_type": "code",
   "execution_count": 17,
   "id": "f6c020b1",
   "metadata": {},
   "outputs": [],
   "source": [
    "df_j['combined_features'] = df_j.apply(combine_features, axis = 1)"
   ]
  },
  {
   "cell_type": "code",
   "execution_count": 18,
   "id": "d76c2091",
   "metadata": {
    "scrolled": true
   },
   "outputs": [
    {
     "name": "stdout",
     "output_type": "stream",
     "text": [
      "Bauchnabelpiercing Strass Kreuz mit Gothic Flügel Crysal Jewelry Bauchnabel Piercing  silber\n"
     ]
    }
   ],
   "source": [
    "print(df_j.loc[0, 'combined_features'])"
   ]
  },
  {
   "cell_type": "code",
   "execution_count": 19,
   "id": "c8612c39",
   "metadata": {
    "scrolled": true
   },
   "outputs": [
    {
     "data": {
      "text/html": [
       "<div>\n",
       "<style scoped>\n",
       "    .dataframe tbody tr th:only-of-type {\n",
       "        vertical-align: middle;\n",
       "    }\n",
       "\n",
       "    .dataframe tbody tr th {\n",
       "        vertical-align: top;\n",
       "    }\n",
       "\n",
       "    .dataframe thead th {\n",
       "        text-align: right;\n",
       "    }\n",
       "</style>\n",
       "<table border=\"1\" class=\"dataframe\">\n",
       "  <thead>\n",
       "    <tr style=\"text-align: right;\">\n",
       "      <th></th>\n",
       "      <th>Name</th>\n",
       "      <th>Brand</th>\n",
       "      <th>Product_Type</th>\n",
       "      <th>Color</th>\n",
       "      <th>combined_features</th>\n",
       "    </tr>\n",
       "  </thead>\n",
       "  <tbody>\n",
       "    <tr>\n",
       "      <th>0</th>\n",
       "      <td>Bauchnabelpiercing Strass Kreuz mit Gothic Flügel</td>\n",
       "      <td>Crysal Jewelry</td>\n",
       "      <td>Bauchnabel Piercing</td>\n",
       "      <td>silber</td>\n",
       "      <td>Bauchnabelpiercing Strass Kreuz mit Gothic Flü...</td>\n",
       "    </tr>\n",
       "    <tr>\n",
       "      <th>1</th>\n",
       "      <td>Bauchnabelpiercing aus Chirurgenstahl mit 925e...</td>\n",
       "      <td>Crysal Jewelry</td>\n",
       "      <td>Bauchnabel Piercing</td>\n",
       "      <td>weiß</td>\n",
       "      <td>Bauchnabelpiercing aus Chirurgenstahl mit 925e...</td>\n",
       "    </tr>\n",
       "  </tbody>\n",
       "</table>\n",
       "</div>"
      ],
      "text/plain": [
       "                                                Name           Brand  \\\n",
       "0  Bauchnabelpiercing Strass Kreuz mit Gothic Flügel  Crysal Jewelry   \n",
       "1  Bauchnabelpiercing aus Chirurgenstahl mit 925e...  Crysal Jewelry   \n",
       "\n",
       "          Product_Type   Color  \\\n",
       "0  Bauchnabel Piercing  silber   \n",
       "1  Bauchnabel Piercing    weiß   \n",
       "\n",
       "                                   combined_features  \n",
       "0  Bauchnabelpiercing Strass Kreuz mit Gothic Flü...  \n",
       "1  Bauchnabelpiercing aus Chirurgenstahl mit 925e...  "
      ]
     },
     "execution_count": 19,
     "metadata": {},
     "output_type": "execute_result"
    }
   ],
   "source": [
    "df_j.head(2)"
   ]
  },
  {
   "cell_type": "markdown",
   "id": "2331a9e0",
   "metadata": {},
   "source": [
    "\n",
    "Now that we have obtained the combined strings, we can now feed these strings to a CountVectorizer() object for getting the count matrix."
   ]
  },
  {
   "cell_type": "code",
   "execution_count": 20,
   "id": "3719650e",
   "metadata": {},
   "outputs": [],
   "source": [
    "##Convert columns values in lowercase\n",
    "df_j['Name']=df_j['Name'].str.lower()\n",
    "df_j['Brand']=df_j['Brand'].str.lower()\n",
    "df_j['Product_Type']=df_j['Product_Type'].str.lower()\n",
    "df_j['Color']=df_j['Color'].str.lower()\n",
    "df_j['combined_features']=df_j['combined_features'].str.lower()"
   ]
  },
  {
   "cell_type": "code",
   "execution_count": 21,
   "id": "b4d89bdd",
   "metadata": {},
   "outputs": [
    {
     "data": {
      "text/html": [
       "<div>\n",
       "<style scoped>\n",
       "    .dataframe tbody tr th:only-of-type {\n",
       "        vertical-align: middle;\n",
       "    }\n",
       "\n",
       "    .dataframe tbody tr th {\n",
       "        vertical-align: top;\n",
       "    }\n",
       "\n",
       "    .dataframe thead th {\n",
       "        text-align: right;\n",
       "    }\n",
       "</style>\n",
       "<table border=\"1\" class=\"dataframe\">\n",
       "  <thead>\n",
       "    <tr style=\"text-align: right;\">\n",
       "      <th></th>\n",
       "      <th>Name</th>\n",
       "      <th>Brand</th>\n",
       "      <th>Product_Type</th>\n",
       "      <th>Color</th>\n",
       "      <th>combined_features</th>\n",
       "    </tr>\n",
       "  </thead>\n",
       "  <tbody>\n",
       "    <tr>\n",
       "      <th>0</th>\n",
       "      <td>bauchnabelpiercing strass kreuz mit gothic flügel</td>\n",
       "      <td>crysal jewelry</td>\n",
       "      <td>bauchnabel piercing</td>\n",
       "      <td>silber</td>\n",
       "      <td>bauchnabelpiercing strass kreuz mit gothic flü...</td>\n",
       "    </tr>\n",
       "    <tr>\n",
       "      <th>1</th>\n",
       "      <td>bauchnabelpiercing aus chirurgenstahl mit 925e...</td>\n",
       "      <td>crysal jewelry</td>\n",
       "      <td>bauchnabel piercing</td>\n",
       "      <td>weiß</td>\n",
       "      <td>bauchnabelpiercing aus chirurgenstahl mit 925e...</td>\n",
       "    </tr>\n",
       "  </tbody>\n",
       "</table>\n",
       "</div>"
      ],
      "text/plain": [
       "                                                Name           Brand  \\\n",
       "0  bauchnabelpiercing strass kreuz mit gothic flügel  crysal jewelry   \n",
       "1  bauchnabelpiercing aus chirurgenstahl mit 925e...  crysal jewelry   \n",
       "\n",
       "          Product_Type   Color  \\\n",
       "0  bauchnabel piercing  silber   \n",
       "1  bauchnabel piercing    weiß   \n",
       "\n",
       "                                   combined_features  \n",
       "0  bauchnabelpiercing strass kreuz mit gothic flü...  \n",
       "1  bauchnabelpiercing aus chirurgenstahl mit 925e...  "
      ]
     },
     "execution_count": 21,
     "metadata": {},
     "output_type": "execute_result"
    }
   ],
   "source": [
    "df_j.head(2)"
   ]
  },
  {
   "cell_type": "code",
   "execution_count": 22,
   "id": "ec98ff6d",
   "metadata": {},
   "outputs": [],
   "source": [
    "from nltk.stem import WordNetLemmatizer\n",
    "\n",
    "from nltk.corpus import stopwords\n",
    "\n",
    "from sklearn.feature_extraction.text import CountVectorizer\n",
    "from sklearn.feature_extraction.text import TfidfVectorizer\n",
    "from nltk.tokenize import RegexpTokenizer\n",
    "\n",
    "from sklearn.metrics.pairwise import cosine_similarity\n",
    "import re\n",
    "\n",
    "\n"
   ]
  },
  {
   "cell_type": "code",
   "execution_count": 23,
   "id": "fd35b196",
   "metadata": {},
   "outputs": [],
   "source": [
    "import string\n",
    "#REMOVE PUNCTUATIONS\n",
    "def rem_punctuations(text):\n",
    "    for punctuation in string.punctuation: #string.punctuation gives all set of punctuations\n",
    "        text = text.replace(punctuation, '')\n",
    "    return text\n",
    "\n",
    "df_j['combined_features'] = df_j['combined_features'].apply(rem_punctuations)\n"
   ]
  },
  {
   "cell_type": "code",
   "execution_count": 24,
   "id": "c277aa69",
   "metadata": {},
   "outputs": [
    {
     "data": {
      "text/plain": [
       "Index(['Name', 'Brand', 'Product_Type', 'Color', 'combined_features'], dtype='object')"
      ]
     },
     "execution_count": 24,
     "metadata": {},
     "output_type": "execute_result"
    }
   ],
   "source": [
    "df_j.columns"
   ]
  },
  {
   "cell_type": "code",
   "execution_count": 25,
   "id": "ad537c8f",
   "metadata": {},
   "outputs": [],
   "source": [
    "# REMOVE NON ASCII CHARACTERS\n",
    "def remove_non_ascii(string):\n",
    "    return \"\".join(c for c in string if ord(c) < 128)\n",
    "\n",
    "df_j['Name'] = df_j['Name'].apply(remove_non_ascii)\n",
    "df_j['Brand'] = df_j['Brand'].apply(remove_non_ascii)\n",
    "df_j['Product_Type'] = df_j['Product_Type'].apply(remove_non_ascii)\n",
    "df_j['Color'] = df_j['Color'].apply(remove_non_ascii)\n",
    "df_j['combined_features'] = df_j['combined_features'].apply(remove_non_ascii)\n",
    "\n",
    "# REMOVE HTML CODES\n",
    "def rem_html(text):\n",
    "    html_pattern = re.compile('<.*?>')\n",
    "    return html_pattern.sub(r'', text)\n",
    "\n",
    "df_j['Name'] = df_j['Name'].apply(rem_html)\n",
    "df_j['Brand'] = df_j['Brand'].apply(rem_html)\n",
    "df_j['Product_Type'] = df_j['Product_Type'].apply(rem_html)\n",
    "df_j['Color'] = df_j['Color'].apply(rem_html)\n",
    "df_j['combined_features'] = df_j['combined_features'].apply(rem_html)\n"
   ]
  },
  {
   "cell_type": "code",
   "execution_count": 26,
   "id": "8004c3ed",
   "metadata": {},
   "outputs": [
    {
     "name": "stdout",
     "output_type": "stream",
     "text": [
      "['arabic', 'azerbaijani', 'basque', 'bengali', 'catalan', 'chinese', 'danish', 'dutch', 'english', 'finnish', 'french', 'german', 'greek', 'hebrew', 'hinglish', 'hungarian', 'indonesian', 'italian', 'kazakh', 'nepali', 'norwegian', 'portuguese', 'romanian', 'russian', 'slovene', 'spanish', 'swedish', 'tajik', 'turkish']\n"
     ]
    }
   ],
   "source": [
    "from nltk.corpus import stopwords\n",
    "print(stopwords.fileids())"
   ]
  },
  {
   "cell_type": "code",
   "execution_count": 27,
   "id": "87b02545",
   "metadata": {},
   "outputs": [],
   "source": [
    "#remove stopwords\n",
    "from nltk.corpus import stopwords\n",
    "\n",
    "def rem_stopwords(text):\n",
    "    return \" \".join(word for word in str(text).split() if word not in set(stopwords.words('german')))\n",
    "\n",
    "\n",
    "df_j['Name'] = df_j['Name'].apply(rem_stopwords)\n",
    "df_j['Brand'] = df_j['Brand'].apply(rem_stopwords)\n",
    "df_j['Product_Type'] = df_j['Product_Type'].apply(rem_stopwords)\n",
    "df_j['combined_features'] = df_j['combined_features'].apply(rem_stopwords)\n"
   ]
  },
  {
   "cell_type": "code",
   "execution_count": 28,
   "id": "55865f7e",
   "metadata": {},
   "outputs": [
    {
     "name": "stderr",
     "output_type": "stream",
     "text": [
      "[nltk_data] Error loading stopwords: <urlopen error [Errno 11001]\n",
      "[nltk_data]     getaddrinfo failed>\n"
     ]
    }
   ],
   "source": [
    "import nltk\n",
    "nltk.download('stopwords')\n",
    "#nltk.download('wordnet')\n",
    "#nltk.download('punkt')\n",
    "#nltk.download('omw-1.4')\n",
    "\n",
    "#from collections import Counter \n",
    "\n",
    "#from nltk.corpus import wordnet # To get words in dictionary with their parts of speech\n",
    "from nltk.stem import WordNetLemmatizer"
   ]
  },
  {
   "cell_type": "code",
   "execution_count": 94,
   "id": "f001a865",
   "metadata": {},
   "outputs": [
    {
     "name": "stderr",
     "output_type": "stream",
     "text": [
      "[nltk_data] Downloading package wordnet to\n",
      "[nltk_data]     C:\\Users\\akwow\\AppData\\Roaming\\nltk_data...\n"
     ]
    },
    {
     "data": {
      "text/plain": [
       "True"
      ]
     },
     "execution_count": 94,
     "metadata": {},
     "output_type": "execute_result"
    }
   ],
   "source": [
    "nltk.download('wordnet')"
   ]
  },
  {
   "cell_type": "code",
   "execution_count": 29,
   "id": "fff50338",
   "metadata": {},
   "outputs": [],
   "source": [
    "wln = WordNetLemmatizer()\n",
    "\n",
    "def lem_words(text):\n",
    "    return \" \".join(wln.lemmatize(word) for word in text.split())\n",
    "\n",
    "\n",
    "df_j['Name'] = df_j['Name'].apply(lem_words)\n",
    "df_j['Brand'] = df_j['Brand'].apply(lem_words)\n",
    "df_j['Product_Type'] = df_j['Product_Type'].apply(lem_words)\n",
    "df_j['Color'] = df_j['Color'].apply(lem_words)\n",
    "df_j['combined_features'] = df_j['combined_features'].apply(lem_words)"
   ]
  },
  {
   "cell_type": "code",
   "execution_count": null,
   "id": "2740edc6",
   "metadata": {},
   "outputs": [],
   "source": []
  },
  {
   "cell_type": "code",
   "execution_count": 30,
   "id": "78fc0a1f",
   "metadata": {},
   "outputs": [],
   "source": [
    "\n",
    "df_j['Name'] = df_j['Name'].str.strip()\n",
    "df_j['Brand'] = df_j['Brand'].str.strip()\n",
    "df_j['Product_Type'] = df_j['Product_Type'].str.strip()\n",
    "df_j['Color'] = df_j['Product_Type'].str.strip()\n",
    "df_j['combined_features'] = df_j['combined_features'].str.strip()\n"
   ]
  },
  {
   "cell_type": "code",
   "execution_count": null,
   "id": "2ce4b060",
   "metadata": {},
   "outputs": [],
   "source": []
  },
  {
   "cell_type": "code",
   "execution_count": 31,
   "id": "fe45c546",
   "metadata": {},
   "outputs": [
    {
     "name": "stdout",
     "output_type": "stream",
     "text": [
      "bauchnabelpiercing strass kreuz gothic flgel crysal jewelry bauchnabel piercing silber\n"
     ]
    },
    {
     "data": {
      "text/plain": [
       "str"
      ]
     },
     "execution_count": 31,
     "metadata": {},
     "output_type": "execute_result"
    }
   ],
   "source": [
    "from sklearn.feature_extraction.text import TfidfVectorizer\n",
    "import string\n",
    "def tostr(text):\n",
    "    return ''.join(text)\n",
    "df_j['Name'] = df_j['Name'].apply(tostr)\n",
    "df_j['Brand'] = df_j['Brand'].apply(tostr)\n",
    "df_j['Product_Type'] = df_j['Product_Type'].apply(tostr)\n",
    "df_j['Color'] = df_j['Color'].apply(tostr)\n",
    "df_j['combined_features'] = df_j['combined_features'].apply(tostr)\n",
    "print(df_j['combined_features'][0])\n",
    "type(df_j['combined_features'][0])"
   ]
  },
  {
   "cell_type": "code",
   "execution_count": null,
   "id": "f604b2f6",
   "metadata": {},
   "outputs": [],
   "source": []
  },
  {
   "cell_type": "code",
   "execution_count": 102,
   "id": "c7c2364a",
   "metadata": {},
   "outputs": [],
   "source": [
    "#fetch category inside function- working recommend function\n",
    "def recommend(name):\n",
    "    name= name.lower()\n",
    "    \n",
    "    #Fetch the category of our title\n",
    "    titlerow = df_j.loc[df_j['Name']== name].iloc[0]\n",
    "    category=titlerow['Brand']\n",
    "\n",
    "    # MATCH THE CATEGORY WITH THE COLUMN \"CATEGORIES\" OF THE DATASET\n",
    "    data = df_j.loc[df_j['Brand'] == category].copy()\n",
    "\n",
    "    if len(data)<=10: ##As our dataset is unbalanced, if the matching category contains less than 10 book titles\n",
    "      data=df_j.copy()          #,then we ommit the category filtering\n",
    "\n",
    "\n",
    "    # RESET INDEX\n",
    "    data.reset_index(level = 0, inplace = True, drop=True) \n",
    "    \n",
    "    # INDEX TO A PANDAS SERIES\n",
    "    indices = pd.Series(data.index, index = data['Name'])\n",
    "    \n",
    "    # CONVERT THE BOOK TITLE INTO VECTORS AND USE BIGRAM\n",
    "    tf = TfidfVectorizer(analyzer='word', ngram_range=(2, 2), min_df = 1, stop_words='english',sublinear_tf=True)\n",
    "    \n",
    "    # tfidf_matrix = tf.fit_transform(data['title'])\n",
    "    #sublinear_tfbool, default=False\n",
    "    #Apply sublinear tf scaling, i.e. replace tf with 1 + log(tf)\n",
    "    \n",
    "    tfidf_matrix = tf.fit_transform(data['combined_features'])\n",
    "    \n",
    "    # CALCULATE THE SIMILARITY MEASURE\n",
    "    similarity = cosine_similarity(tfidf_matrix, tfidf_matrix)\n",
    "    \n",
    "    # GET THE INDEX OF ORIGINAL TITLE\n",
    "    title_index = indices[Brand].tolist()\n",
    "    print(\"title_index\",title_index)\n",
    "    if not(type(title_index) is int): \n",
    "        \n",
    "        title_index=title_index[0]    #if more than one matching index exists, take the 1st one\n",
    "        inds=indices[Brand].tolist()\n",
    "        for i in inds:   #to drop other rows with the same title\n",
    "          if i!=title_index:\n",
    "            print('index dropped:',i)\n",
    "            data.drop(i,inplace=True)\n",
    "    \n",
    "    # PAIRWISE SIMILARITY SCORES\n",
    "    similarity = list(enumerate(similarity[title_index]))\n",
    "    \n",
    "    # SORT THE BOOKS\n",
    "    similarity = sorted(similarity, key=lambda x: x[1], reverse=True)\n",
    "\n",
    "    # GET TOP 10 MOST SIMILAR BOOKS\n",
    "    similarity  = similarity [1:11]\n",
    "    print(\"similarity:\",similarity,\"\\n\")\n",
    "    book_indices = [i[0] for i in similarity]\n",
    "\n",
    "    #Weighted Rating method\n",
    "    top10_rated = data['Search_Price'].iloc[book_indices]\n",
    "    wsort = top10_rated.sort_values(ascending = False)\n",
    "    wsort_top5 = wsort[:6]\n",
    "    wsort_top5.to_frame()\n",
    "\n",
    "    # INDICES OF TOP 5\n",
    "    wsort_indices = wsort_top5.index\n",
    "    #print(wsort_indices)\n",
    "\n",
    "    # TOP 5 RECOMMENDATION\n",
    "    rec = data[['Brand']].iloc[wsort_indices]\n",
    "    \n",
    "    # PRINT THE BOOKS TITLE\n",
    "    print(\"\\n\",\"The recommendations are:\")\n",
    "    print(rec['Brand'])"
   ]
  },
  {
   "cell_type": "code",
   "execution_count": null,
   "id": "a95536e0",
   "metadata": {},
   "outputs": [],
   "source": []
  },
  {
   "cell_type": "code",
   "execution_count": 32,
   "id": "72c20dcc",
   "metadata": {},
   "outputs": [
    {
     "data": {
      "text/html": [
       "<div>\n",
       "<style scoped>\n",
       "    .dataframe tbody tr th:only-of-type {\n",
       "        vertical-align: middle;\n",
       "    }\n",
       "\n",
       "    .dataframe tbody tr th {\n",
       "        vertical-align: top;\n",
       "    }\n",
       "\n",
       "    .dataframe thead th {\n",
       "        text-align: right;\n",
       "    }\n",
       "</style>\n",
       "<table border=\"1\" class=\"dataframe\">\n",
       "  <thead>\n",
       "    <tr style=\"text-align: right;\">\n",
       "      <th></th>\n",
       "      <th>Name</th>\n",
       "      <th>Brand</th>\n",
       "      <th>Product_Type</th>\n",
       "      <th>Color</th>\n",
       "      <th>combined_features</th>\n",
       "    </tr>\n",
       "  </thead>\n",
       "  <tbody>\n",
       "    <tr>\n",
       "      <th>0</th>\n",
       "      <td>bauchnabelpiercing strass kreuz gothic flgel</td>\n",
       "      <td>crysal jewelry</td>\n",
       "      <td>bauchnabel piercing</td>\n",
       "      <td>silber</td>\n",
       "      <td>bauchnabelpiercing strass kreuz gothic flgel c...</td>\n",
       "    </tr>\n",
       "    <tr>\n",
       "      <th>1</th>\n",
       "      <td>bauchnabelpiercing chirurgenstahl 925er silber...</td>\n",
       "      <td>crysal jewelry</td>\n",
       "      <td>bauchnabel piercing</td>\n",
       "      <td>wei</td>\n",
       "      <td>bauchnabelpiercing chirurgenstahl 925er silber...</td>\n",
       "    </tr>\n",
       "  </tbody>\n",
       "</table>\n",
       "</div>"
      ],
      "text/plain": [
       "                                                Name           Brand  \\\n",
       "0       bauchnabelpiercing strass kreuz gothic flgel  crysal jewelry   \n",
       "1  bauchnabelpiercing chirurgenstahl 925er silber...  crysal jewelry   \n",
       "\n",
       "          Product_Type   Color  \\\n",
       "0  bauchnabel piercing  silber   \n",
       "1  bauchnabel piercing     wei   \n",
       "\n",
       "                                   combined_features  \n",
       "0  bauchnabelpiercing strass kreuz gothic flgel c...  \n",
       "1  bauchnabelpiercing chirurgenstahl 925er silber...  "
      ]
     },
     "execution_count": 32,
     "metadata": {},
     "output_type": "execute_result"
    }
   ],
   "source": [
    "df_j.head(2)"
   ]
  },
  {
   "cell_type": "code",
   "execution_count": 103,
   "id": "872c49b3",
   "metadata": {},
   "outputs": [
    {
     "ename": "IndexError",
     "evalue": "single positional indexer is out-of-bounds",
     "output_type": "error",
     "traceback": [
      "\u001b[1;31m---------------------------------------------------------------------------\u001b[0m",
      "\u001b[1;31mIndexError\u001b[0m                                Traceback (most recent call last)",
      "\u001b[1;32m<ipython-input-103-7dfa14025a13>\u001b[0m in \u001b[0;36m<module>\u001b[1;34m\u001b[0m\n\u001b[1;32m----> 1\u001b[1;33m \u001b[0mrecommend\u001b[0m\u001b[1;33m(\u001b[0m\u001b[1;34m\"bauchnabel piercing\"\u001b[0m\u001b[1;33m)\u001b[0m\u001b[1;33m\u001b[0m\u001b[1;33m\u001b[0m\u001b[0m\n\u001b[0m",
      "\u001b[1;32m<ipython-input-102-5bdc710266ea>\u001b[0m in \u001b[0;36mrecommend\u001b[1;34m(name)\u001b[0m\n\u001b[0;32m      5\u001b[0m \u001b[1;33m\u001b[0m\u001b[0m\n\u001b[0;32m      6\u001b[0m     \u001b[1;31m#Fetch the category of our title\u001b[0m\u001b[1;33m\u001b[0m\u001b[1;33m\u001b[0m\u001b[1;33m\u001b[0m\u001b[0m\n\u001b[1;32m----> 7\u001b[1;33m     \u001b[0mtitlerow\u001b[0m \u001b[1;33m=\u001b[0m \u001b[0mdf_j\u001b[0m\u001b[1;33m.\u001b[0m\u001b[0mloc\u001b[0m\u001b[1;33m[\u001b[0m\u001b[0mdf_j\u001b[0m\u001b[1;33m[\u001b[0m\u001b[1;34m'Name'\u001b[0m\u001b[1;33m]\u001b[0m\u001b[1;33m==\u001b[0m \u001b[0mname\u001b[0m\u001b[1;33m]\u001b[0m\u001b[1;33m.\u001b[0m\u001b[0miloc\u001b[0m\u001b[1;33m[\u001b[0m\u001b[1;36m0\u001b[0m\u001b[1;33m]\u001b[0m\u001b[1;33m\u001b[0m\u001b[1;33m\u001b[0m\u001b[0m\n\u001b[0m\u001b[0;32m      8\u001b[0m     \u001b[0mcategory\u001b[0m\u001b[1;33m=\u001b[0m\u001b[0mtitlerow\u001b[0m\u001b[1;33m[\u001b[0m\u001b[1;34m'Brand'\u001b[0m\u001b[1;33m]\u001b[0m\u001b[1;33m\u001b[0m\u001b[1;33m\u001b[0m\u001b[0m\n\u001b[0;32m      9\u001b[0m \u001b[1;33m\u001b[0m\u001b[0m\n",
      "\u001b[1;32m~\\anaconda3\\lib\\site-packages\\pandas\\core\\indexing.py\u001b[0m in \u001b[0;36m__getitem__\u001b[1;34m(self, key)\u001b[0m\n\u001b[0;32m   1072\u001b[0m \u001b[1;33m\u001b[0m\u001b[0m\n\u001b[0;32m   1073\u001b[0m             \u001b[0mmaybe_callable\u001b[0m \u001b[1;33m=\u001b[0m \u001b[0mcom\u001b[0m\u001b[1;33m.\u001b[0m\u001b[0mapply_if_callable\u001b[0m\u001b[1;33m(\u001b[0m\u001b[0mkey\u001b[0m\u001b[1;33m,\u001b[0m \u001b[0mself\u001b[0m\u001b[1;33m.\u001b[0m\u001b[0mobj\u001b[0m\u001b[1;33m)\u001b[0m\u001b[1;33m\u001b[0m\u001b[1;33m\u001b[0m\u001b[0m\n\u001b[1;32m-> 1074\u001b[1;33m             \u001b[1;32mreturn\u001b[0m \u001b[0mself\u001b[0m\u001b[1;33m.\u001b[0m\u001b[0m_getitem_axis\u001b[0m\u001b[1;33m(\u001b[0m\u001b[0mmaybe_callable\u001b[0m\u001b[1;33m,\u001b[0m \u001b[0maxis\u001b[0m\u001b[1;33m=\u001b[0m\u001b[0maxis\u001b[0m\u001b[1;33m)\u001b[0m\u001b[1;33m\u001b[0m\u001b[1;33m\u001b[0m\u001b[0m\n\u001b[0m\u001b[0;32m   1075\u001b[0m \u001b[1;33m\u001b[0m\u001b[0m\n\u001b[0;32m   1076\u001b[0m     \u001b[1;32mdef\u001b[0m \u001b[0m_is_scalar_access\u001b[0m\u001b[1;33m(\u001b[0m\u001b[0mself\u001b[0m\u001b[1;33m,\u001b[0m \u001b[0mkey\u001b[0m\u001b[1;33m:\u001b[0m \u001b[0mtuple\u001b[0m\u001b[1;33m)\u001b[0m\u001b[1;33m:\u001b[0m\u001b[1;33m\u001b[0m\u001b[1;33m\u001b[0m\u001b[0m\n",
      "\u001b[1;32m~\\anaconda3\\lib\\site-packages\\pandas\\core\\indexing.py\u001b[0m in \u001b[0;36m_getitem_axis\u001b[1;34m(self, key, axis)\u001b[0m\n\u001b[0;32m   1624\u001b[0m \u001b[1;33m\u001b[0m\u001b[0m\n\u001b[0;32m   1625\u001b[0m             \u001b[1;31m# validate the location\u001b[0m\u001b[1;33m\u001b[0m\u001b[1;33m\u001b[0m\u001b[1;33m\u001b[0m\u001b[0m\n\u001b[1;32m-> 1626\u001b[1;33m             \u001b[0mself\u001b[0m\u001b[1;33m.\u001b[0m\u001b[0m_validate_integer\u001b[0m\u001b[1;33m(\u001b[0m\u001b[0mkey\u001b[0m\u001b[1;33m,\u001b[0m \u001b[0maxis\u001b[0m\u001b[1;33m)\u001b[0m\u001b[1;33m\u001b[0m\u001b[1;33m\u001b[0m\u001b[0m\n\u001b[0m\u001b[0;32m   1627\u001b[0m \u001b[1;33m\u001b[0m\u001b[0m\n\u001b[0;32m   1628\u001b[0m             \u001b[1;32mreturn\u001b[0m \u001b[0mself\u001b[0m\u001b[1;33m.\u001b[0m\u001b[0mobj\u001b[0m\u001b[1;33m.\u001b[0m\u001b[0m_ixs\u001b[0m\u001b[1;33m(\u001b[0m\u001b[0mkey\u001b[0m\u001b[1;33m,\u001b[0m \u001b[0maxis\u001b[0m\u001b[1;33m=\u001b[0m\u001b[0maxis\u001b[0m\u001b[1;33m)\u001b[0m\u001b[1;33m\u001b[0m\u001b[1;33m\u001b[0m\u001b[0m\n",
      "\u001b[1;32m~\\anaconda3\\lib\\site-packages\\pandas\\core\\indexing.py\u001b[0m in \u001b[0;36m_validate_integer\u001b[1;34m(self, key, axis)\u001b[0m\n\u001b[0;32m   1556\u001b[0m         \u001b[0mlen_axis\u001b[0m \u001b[1;33m=\u001b[0m \u001b[0mlen\u001b[0m\u001b[1;33m(\u001b[0m\u001b[0mself\u001b[0m\u001b[1;33m.\u001b[0m\u001b[0mobj\u001b[0m\u001b[1;33m.\u001b[0m\u001b[0m_get_axis\u001b[0m\u001b[1;33m(\u001b[0m\u001b[0maxis\u001b[0m\u001b[1;33m)\u001b[0m\u001b[1;33m)\u001b[0m\u001b[1;33m\u001b[0m\u001b[1;33m\u001b[0m\u001b[0m\n\u001b[0;32m   1557\u001b[0m         \u001b[1;32mif\u001b[0m \u001b[0mkey\u001b[0m \u001b[1;33m>=\u001b[0m \u001b[0mlen_axis\u001b[0m \u001b[1;32mor\u001b[0m \u001b[0mkey\u001b[0m \u001b[1;33m<\u001b[0m \u001b[1;33m-\u001b[0m\u001b[0mlen_axis\u001b[0m\u001b[1;33m:\u001b[0m\u001b[1;33m\u001b[0m\u001b[1;33m\u001b[0m\u001b[0m\n\u001b[1;32m-> 1558\u001b[1;33m             \u001b[1;32mraise\u001b[0m \u001b[0mIndexError\u001b[0m\u001b[1;33m(\u001b[0m\u001b[1;34m\"single positional indexer is out-of-bounds\"\u001b[0m\u001b[1;33m)\u001b[0m\u001b[1;33m\u001b[0m\u001b[1;33m\u001b[0m\u001b[0m\n\u001b[0m\u001b[0;32m   1559\u001b[0m \u001b[1;33m\u001b[0m\u001b[0m\n\u001b[0;32m   1560\u001b[0m     \u001b[1;31m# -------------------------------------------------------------------\u001b[0m\u001b[1;33m\u001b[0m\u001b[1;33m\u001b[0m\u001b[1;33m\u001b[0m\u001b[0m\n",
      "\u001b[1;31mIndexError\u001b[0m: single positional indexer is out-of-bounds"
     ]
    }
   ],
   "source": [
    "recommend(\"bauchnabel piercing\")"
   ]
  },
  {
   "cell_type": "code",
   "execution_count": null,
   "id": "3c63ce17",
   "metadata": {},
   "outputs": [],
   "source": []
  },
  {
   "cell_type": "code",
   "execution_count": null,
   "id": "5f90e6fb",
   "metadata": {},
   "outputs": [],
   "source": []
  },
  {
   "cell_type": "code",
   "execution_count": null,
   "id": "fe68608b",
   "metadata": {},
   "outputs": [],
   "source": []
  },
  {
   "cell_type": "code",
   "execution_count": null,
   "id": "c022cb22",
   "metadata": {},
   "outputs": [],
   "source": []
  },
  {
   "cell_type": "code",
   "execution_count": null,
   "id": "eadfb966",
   "metadata": {},
   "outputs": [],
   "source": []
  },
  {
   "cell_type": "code",
   "execution_count": null,
   "id": "921b992d",
   "metadata": {},
   "outputs": [],
   "source": []
  },
  {
   "cell_type": "code",
   "execution_count": null,
   "id": "4a5a4996",
   "metadata": {},
   "outputs": [],
   "source": []
  },
  {
   "cell_type": "code",
   "execution_count": null,
   "id": "60550031",
   "metadata": {},
   "outputs": [],
   "source": []
  },
  {
   "cell_type": "code",
   "execution_count": null,
   "id": "e80398f4",
   "metadata": {},
   "outputs": [],
   "source": []
  },
  {
   "cell_type": "code",
   "execution_count": null,
   "id": "dc8a3d7c",
   "metadata": {},
   "outputs": [],
   "source": []
  },
  {
   "cell_type": "code",
   "execution_count": null,
   "id": "03466fe1",
   "metadata": {},
   "outputs": [],
   "source": []
  },
  {
   "cell_type": "code",
   "execution_count": null,
   "id": "9bab10ea",
   "metadata": {},
   "outputs": [],
   "source": []
  },
  {
   "cell_type": "code",
   "execution_count": null,
   "id": "c2541b9c",
   "metadata": {},
   "outputs": [],
   "source": []
  },
  {
   "cell_type": "code",
   "execution_count": 33,
   "id": "91131b39",
   "metadata": {},
   "outputs": [],
   "source": [
    "cv = CountVectorizer()\n",
    "count_matrix = cv.fit_transform(df_j['combined_features'])"
   ]
  },
  {
   "cell_type": "markdown",
   "id": "a0513186",
   "metadata": {},
   "source": [
    "Now, we need to obtain the cosine similarity matrix from the count matrix."
   ]
  },
  {
   "cell_type": "code",
   "execution_count": 34,
   "id": "ebb03415",
   "metadata": {},
   "outputs": [],
   "source": [
    "cosine_sim = cosine_similarity(count_matrix)"
   ]
  },
  {
   "cell_type": "markdown",
   "id": "790a557e",
   "metadata": {},
   "source": [
    "Now, we will define two helper functions to get dataset  brand  from dataset  index and vice-versa."
   ]
  },
  {
   "cell_type": "code",
   "execution_count": 35,
   "id": "6a9ef94d",
   "metadata": {},
   "outputs": [],
   "source": [
    "cols=df_j.columns"
   ]
  },
  {
   "cell_type": "code",
   "execution_count": 48,
   "id": "bc8699e6",
   "metadata": {},
   "outputs": [
    {
     "data": {
      "text/plain": [
       "Int64Index([    0,     1,     2,     3,     4,     5,     6,     7,     8,\n",
       "                9,\n",
       "            ...\n",
       "            23956, 23957, 23958, 23959, 23960, 23961, 23962, 23963, 23964,\n",
       "            23965],\n",
       "           dtype='int64', length=23936)"
      ]
     },
     "execution_count": 48,
     "metadata": {},
     "output_type": "execute_result"
    }
   ],
   "source": [
    "df_j.index"
   ]
  },
  {
   "cell_type": "code",
   "execution_count": 36,
   "id": "69dde21a",
   "metadata": {},
   "outputs": [],
   "source": [
    "def get_title_from_index(index):\n",
    "    return df_j[df_j.index == index][\"Name\"].values[0]\n",
    "def get_index_from_brand(Name):\n",
    "    return df_j[df_j.Name == Name].index.values[0]\n"
   ]
  },
  {
   "cell_type": "code",
   "execution_count": null,
   "id": "88d40920",
   "metadata": {},
   "outputs": [],
   "source": []
  },
  {
   "cell_type": "code",
   "execution_count": 47,
   "id": "f5412a52",
   "metadata": {},
   "outputs": [
    {
     "data": {
      "text/plain": [
       "array([], dtype=int64)"
      ]
     },
     "execution_count": 47,
     "metadata": {},
     "output_type": "execute_result"
    }
   ],
   "source": [
    "df_j[df_j.Name == 'Bauchnabelpiercing Strass Kreuz mit Gothic Flügel'].index.values"
   ]
  },
  {
   "cell_type": "markdown",
   "id": "e7bfa3ba",
   "metadata": {},
   "source": [
    "Our next step is to get the title of the movie that the user currently likes. Then we will find the index of that movie. After that, we will access the row corresponding to this movie in the similarity matrix. Thus, we will get the similarity scores of all other movies from the current movie. Then we will enumerate through all the similarity scores of that movie to make a tuple of movie index and similarity score. This will convert a row of similarity scores like this- [1 0.5 0.2 0.9] to this- [(0, 1) (1, 0.5) (2, 0.2) (3, 0.9)] . Here, each item is in this form- (movie index, similarity score)"
   ]
  },
  {
   "cell_type": "code",
   "execution_count": 39,
   "id": "447b7da6",
   "metadata": {
    "scrolled": false
   },
   "outputs": [
    {
     "data": {
      "text/html": [
       "<div>\n",
       "<style scoped>\n",
       "    .dataframe tbody tr th:only-of-type {\n",
       "        vertical-align: middle;\n",
       "    }\n",
       "\n",
       "    .dataframe tbody tr th {\n",
       "        vertical-align: top;\n",
       "    }\n",
       "\n",
       "    .dataframe thead th {\n",
       "        text-align: right;\n",
       "    }\n",
       "</style>\n",
       "<table border=\"1\" class=\"dataframe\">\n",
       "  <thead>\n",
       "    <tr style=\"text-align: right;\">\n",
       "      <th></th>\n",
       "      <th>Name</th>\n",
       "      <th>Brand</th>\n",
       "      <th>Product_Type</th>\n",
       "      <th>Color</th>\n",
       "      <th>combined_features</th>\n",
       "    </tr>\n",
       "  </thead>\n",
       "  <tbody>\n",
       "    <tr>\n",
       "      <th>0</th>\n",
       "      <td>bauchnabelpiercing strass kreuz gothic flgel</td>\n",
       "      <td>crysal jewelry</td>\n",
       "      <td>bauchnabel piercing</td>\n",
       "      <td>silber</td>\n",
       "      <td>bauchnabelpiercing strass kreuz gothic flgel c...</td>\n",
       "    </tr>\n",
       "    <tr>\n",
       "      <th>1</th>\n",
       "      <td>bauchnabelpiercing chirurgenstahl 925er silber...</td>\n",
       "      <td>crysal jewelry</td>\n",
       "      <td>bauchnabel piercing</td>\n",
       "      <td>wei</td>\n",
       "      <td>bauchnabelpiercing chirurgenstahl 925er silber...</td>\n",
       "    </tr>\n",
       "  </tbody>\n",
       "</table>\n",
       "</div>"
      ],
      "text/plain": [
       "                                                Name           Brand  \\\n",
       "0       bauchnabelpiercing strass kreuz gothic flgel  crysal jewelry   \n",
       "1  bauchnabelpiercing chirurgenstahl 925er silber...  crysal jewelry   \n",
       "\n",
       "          Product_Type   Color  \\\n",
       "0  bauchnabel piercing  silber   \n",
       "1  bauchnabel piercing     wei   \n",
       "\n",
       "                                   combined_features  \n",
       "0  bauchnabelpiercing strass kreuz gothic flgel c...  \n",
       "1  bauchnabelpiercing chirurgenstahl 925er silber...  "
      ]
     },
     "execution_count": 39,
     "metadata": {},
     "output_type": "execute_result"
    }
   ],
   "source": [
    "df_j.head(2)"
   ]
  },
  {
   "cell_type": "code",
   "execution_count": null,
   "id": "3c133120",
   "metadata": {},
   "outputs": [],
   "source": []
  },
  {
   "cell_type": "code",
   "execution_count": 50,
   "id": "a62c9d95",
   "metadata": {},
   "outputs": [],
   "source": [
    "jewlry_user_likes = \"bauchnabelpiercing strass kreuz gothic flgel\"\n",
    "df_j_brand = get_index_from_brand(jewlry_user_likes)\n",
    "similar_jewlry = list(enumerate(cosine_sim[df_j_brand])) #accessing the row corresponding to given movie to find all the similarity scores for that movie and then enumerating over it"
   ]
  },
  {
   "cell_type": "markdown",
   "id": "fdebd755",
   "metadata": {},
   "source": [
    "We will sort the list similar_movies according to similarity scores in descending order. Since the most similar movie to a given movie will be itself, we will discard the first element after sorting the movies."
   ]
  },
  {
   "cell_type": "code",
   "execution_count": 51,
   "id": "9167022c",
   "metadata": {},
   "outputs": [],
   "source": [
    "sorted_similar_movies = sorted(similar_jewlry,key=lambda x:x[1],reverse=True)[1:]"
   ]
  },
  {
   "cell_type": "markdown",
   "id": "4d1c802a",
   "metadata": {},
   "source": [
    "Then, we will run a loop to print first `10 entries from sorted_similar_movies list."
   ]
  },
  {
   "cell_type": "code",
   "execution_count": 53,
   "id": "1833965a",
   "metadata": {},
   "outputs": [
    {
     "name": "stdout",
     "output_type": "stream",
     "text": [
      "Top 10 similar jewlry  to bauchnabelpiercing strass kreuz gothic flgel are:\n",
      "\n",
      "reverse bauchnabelpiercing gothic kreuz kristallstein\n",
      "bauchnabelpiercing fantasy kreuz flgel kristall chirurgenstahl\n",
      "bauchnabelpiercing bunter schmetterling c316l\n",
      "reverse bauchnabelpiercing tribal-style zirkonia\n",
      "bauchnabelpiercing tribal-style zirkonia steinchen\n",
      "bauchnabel piercing \"love\" herz strass *zirkonia stein\n",
      "bauchnabelpiercing tribal gothic kreuz schwarzer kristall stein c316l\n",
      "bauchnabel piercing 3 schmetterlingen chirurgenstahl\n",
      "reverse bauchnabelpiercing schnem schmetterling butterfly\n",
      "bauchnabelpiercing gepunkteter glitzer schmetterling c316l\n",
      "bauchnabelpiercing tribal motive zirkonia steinchen\n"
     ]
    }
   ],
   "source": [
    "i=0\n",
    "print(\"Top 10 similar jewlry  to \"+jewlry_user_likes+\" are:\\n\")\n",
    "for element in sorted_similar_movies:\n",
    "    print(get_title_from_index(element[0]))\n",
    "    i=i+1\n",
    "    if i>10:\n",
    "        break"
   ]
  },
  {
   "cell_type": "code",
   "execution_count": null,
   "id": "9b45061b",
   "metadata": {},
   "outputs": [],
   "source": []
  }
 ],
 "metadata": {
  "kernelspec": {
   "display_name": "Python 3",
   "language": "python",
   "name": "python3"
  },
  "language_info": {
   "codemirror_mode": {
    "name": "ipython",
    "version": 3
   },
   "file_extension": ".py",
   "mimetype": "text/x-python",
   "name": "python",
   "nbconvert_exporter": "python",
   "pygments_lexer": "ipython3",
   "version": "3.8.8"
  }
 },
 "nbformat": 4,
 "nbformat_minor": 5
}
