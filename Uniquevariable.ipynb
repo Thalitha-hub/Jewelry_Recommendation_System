{
 "cells": [
  {
   "cell_type": "code",
   "execution_count": 1,
   "id": "408dcccc",
   "metadata": {},
   "outputs": [],
   "source": [
    "import pandas as pd\n",
    "import numpy as np \n",
    "import matplotlib.pyplot as plt"
   ]
  },
  {
   "cell_type": "code",
   "execution_count": 2,
   "id": "58f010e6",
   "metadata": {},
   "outputs": [],
   "source": [
    "\n",
    "\n",
    "\n",
    "\n",
    "\n",
    "🚗 Drowsiness Detection System using AI 💤\n",
    "Detect Driver Fatigue and Prevent Accidents\n",
    "(Optional: Add an image if you have one)\n",
    "\n",
    "📌 Project Overview\n",
    "This project implements a real-time drowsiness detection system using computer vision and deep learning. The model detects if a driver is drowsy and triggers an alert, helping to reduce road accidents caused by fatigue.\n",
    "\n",
    "🎯 Features\n",
    "✅ Real-time face and eye detection using OpenCV\n",
    "✅ Drowsiness classification using a deep learning model (CNN/LSTM)\n",
    "✅ Audio alerts when drowsiness is detected\n",
    "✅ Lightweight and efficient for real-time use on embedded devices\n",
    "\n",
    "📂 Dataset\n",
    "Used [mention dataset name, e.g., NTHU Drowsiness Dataset, Kaggle Dataset, or Custom Data]\n",
    "Contains images/videos of open eyes, closed eyes, and yawning faces\n",
    "Augmented to improve generalization\n",
    "🛠️ Technology Stack\n",
    "Python\n",
    "OpenCV for face and eye detection\n",
    "Deep Learning (CNN/LSTM) with TensorFlow/Keras\n",
    "Dlib/Haarcascade for facial landmarks\n",
    "Pygame for alert sounds\n",
    "\n",
    "+f=pd.read_csv('CleanJewelryData.csv')"
   ]
  },
  {
   "cell_type": "code",
   "execution_count": null,
   "id": "d78ea611",
   "metadata": {},
   "outputs": [],
   "source": []
  },
  {
   "cell_type": "code",
   "execution_count": 3,
   "id": "436c2ed3",
   "metadata": {
    "scrolled": true
   },
   "outputs": [
    {
     "data": {
      "text/html": [
       "<div>\n",
       "<style scoped>\n",
       "    .dataframe tbody tr th:only-of-type {\n",
       "        vertical-align: middle;\n",
       "    }\n",
       "\n",
       "    .dataframe tbody tr th {\n",
       "        vertical-align: top;\n",
       "    }\n",
       "\n",
       "    .dataframe thead th {\n",
       "        text-align: right;\n",
       "    }\n",
       "</style>\n",
       "<table border=\"1\" class=\"dataframe\">\n",
       "  <thead>\n",
       "    <tr style=\"text-align: right;\">\n",
       "      <th></th>\n",
       "      <th>id</th>\n",
       "      <th>Name</th>\n",
       "      <th>Brand</th>\n",
       "      <th>Product_Type</th>\n",
       "      <th>Search_Price</th>\n",
       "      <th>Gender</th>\n",
       "      <th>AW_Deep_Link</th>\n",
       "      <th>Merchant_Image</th>\n",
       "      <th>Color</th>\n",
       "    </tr>\n",
       "  </thead>\n",
       "  <tbody>\n",
       "    <tr>\n",
       "      <th>0</th>\n",
       "      <td>1</td>\n",
       "      <td>Gorgeous flower</td>\n",
       "      <td>Hermes</td>\n",
       "      <td>Ring</td>\n",
       "      <td>1000.0</td>\n",
       "      <td>Herren</td>\n",
       "      <td>https://github.com/Christophenkoa</td>\n",
       "      <td>https://github.com/Christophenkoa</td>\n",
       "      <td>silberfarben</td>\n",
       "    </tr>\n",
       "    <tr>\n",
       "      <th>1</th>\n",
       "      <td>2</td>\n",
       "      <td>Capolavoro Ohrringe - Earrings Espressivo Topa...</td>\n",
       "      <td>Capolavoro</td>\n",
       "      <td>Ohrringe</td>\n",
       "      <td>1240.0</td>\n",
       "      <td>Damen</td>\n",
       "      <td>https://www.awin1.com/pclick.php?p=31357696821...</td>\n",
       "      <td>https://statics-cdn.fashionette.net/e/2/f/9/e2...</td>\n",
       "      <td>silver</td>\n",
       "    </tr>\n",
       "    <tr>\n",
       "      <th>2</th>\n",
       "      <td>3</td>\n",
       "      <td>Capolavoro Halskette - Necklace Dolcini Brilli...</td>\n",
       "      <td>Capolavoro</td>\n",
       "      <td>Halsketten</td>\n",
       "      <td>869.4</td>\n",
       "      <td>Damen</td>\n",
       "      <td>https://www.awin1.com/pclick.php?p=31663652185...</td>\n",
       "      <td>https://statics-cdn.fashionette.net/c/3/6/3/c3...</td>\n",
       "      <td>quarz</td>\n",
       "    </tr>\n",
       "    <tr>\n",
       "      <th>3</th>\n",
       "      <td>4</td>\n",
       "      <td>LOTT.gioielli Ohrringe - Earring Glassberry Dr...</td>\n",
       "      <td>LOTT.gioielli</td>\n",
       "      <td>Ohrringe</td>\n",
       "      <td>110.0</td>\n",
       "      <td>Damen</td>\n",
       "      <td>https://www.awin1.com/pclick.php?p=33212875675...</td>\n",
       "      <td>https://statics-cdn.fashionette.net/7/7/5/b/77...</td>\n",
       "      <td>gold</td>\n",
       "    </tr>\n",
       "    <tr>\n",
       "      <th>4</th>\n",
       "      <td>5</td>\n",
       "      <td>LOTT.gioielli Halskette - Necklace Heart S - i...</td>\n",
       "      <td>LOTT.gioielli</td>\n",
       "      <td>Halsketten</td>\n",
       "      <td>61.0</td>\n",
       "      <td>Damen</td>\n",
       "      <td>https://www.awin1.com/pclick.php?p=26768193385...</td>\n",
       "      <td>https://statics-cdn.fashionette.net/0/c/b/2/0c...</td>\n",
       "      <td>gold</td>\n",
       "    </tr>\n",
       "  </tbody>\n",
       "</table>\n",
       "</div>"
      ],
      "text/plain": [
       "   id                                               Name          Brand  \\\n",
       "0   1                                   Gorgeous flower          Hermes   \n",
       "1   2  Capolavoro Ohrringe - Earrings Espressivo Topa...     Capolavoro   \n",
       "2   3  Capolavoro Halskette - Necklace Dolcini Brilli...     Capolavoro   \n",
       "3   4  LOTT.gioielli Ohrringe - Earring Glassberry Dr...  LOTT.gioielli   \n",
       "4   5  LOTT.gioielli Halskette - Necklace Heart S - i...  LOTT.gioielli   \n",
       "\n",
       "  Product_Type  Search_Price  Gender  \\\n",
       "0         Ring        1000.0  Herren   \n",
       "1     Ohrringe        1240.0   Damen   \n",
       "2   Halsketten         869.4   Damen   \n",
       "3     Ohrringe         110.0   Damen   \n",
       "4   Halsketten          61.0   Damen   \n",
       "\n",
       "                                        AW_Deep_Link  \\\n",
       "0                  https://github.com/Christophenkoa   \n",
       "1  https://www.awin1.com/pclick.php?p=31357696821...   \n",
       "2  https://www.awin1.com/pclick.php?p=31663652185...   \n",
       "3  https://www.awin1.com/pclick.php?p=33212875675...   \n",
       "4  https://www.awin1.com/pclick.php?p=26768193385...   \n",
       "\n",
       "                                      Merchant_Image         Color  \n",
       "0                  https://github.com/Christophenkoa  silberfarben  \n",
       "1  https://statics-cdn.fashionette.net/e/2/f/9/e2...        silver  \n",
       "2  https://statics-cdn.fashionette.net/c/3/6/3/c3...         quarz  \n",
       "3  https://statics-cdn.fashionette.net/7/7/5/b/77...          gold  \n",
       "4  https://statics-cdn.fashionette.net/0/c/b/2/0c...          gold  "
      ]
     },
     "execution_count": 3,
     "metadata": {},
     "output_type": "execute_result"
    }
   ],
   "source": [
    "\n",
    "\n",
    "\n",
    "\n",
    "\n",
    "\n",
    "\n",
    "\n",
    "\n",
    "\n",
    "\n",
    "\n",
    "\n",
    "\n",
    "\n",
    "\n",
    "\n",
    "\n",
    "\n",
    "\n",
    "\n",
    "\n",
    "df.head()"
   ]
  },
  {
   "cell_type": "code",
   "execution_count": 4,
   "id": "e31875f9",
   "metadata": {},
   "outputs": [
    {
     "data": {
      "text/plain": [
       "Index(['id', 'Name', 'Brand', 'Product_Type', 'Search_Price', 'Gender',\n",
       "       'AW_Deep_Link', 'Merchant_Image', 'Color'],\n",
       "      dtype='object')"
      ]
     },
     "execution_count": 4,
     "metadata": {},
     "output_type": "execute_result"
    }
   ],
   "source": [
    "df.columns"
   ]
  },
  {
   "cell_type": "code",
   "execution_count": 7,
   "id": "6d9960d7",
   "metadata": {},
   "outputs": [],
   "source": [
    "df_uni=df[['Brand','Product_Type','Color']]"
   ]
  },
  {
   "cell_type": "code",
   "execution_count": 20,
   "id": "acb25de8",
   "metadata": {},
   "outputs": [
    {
     "name": "stderr",
     "output_type": "stream",
     "text": [
      "C:\\Users\\akwow\\AppData\\Local\\Temp\\ipykernel_3188\\600072739.py:1: SettingWithCopyWarning: \n",
      "A value is trying to be set on a copy of a slice from a DataFrame.\n",
      "Try using .loc[row_indexer,col_indexer] = value instead\n",
      "\n",
      "See the caveats in the documentation: https://pandas.pydata.org/pandas-docs/stable/user_guide/indexing.html#returning-a-view-versus-a-copy\n",
      "  df_uni['Brand'] = pd.DataFrame(df_uni['Brand'].unique())\n"
     ]
    }
   ],
   "source": [
    "df_uni['Brand'] = pd.DataFrame(df_uni['Brand'].unique())"
   ]
  },
  {
   "cell_type": "code",
   "execution_count": null,
   "id": "ba57e825",
   "metadata": {},
   "outputs": [],
   "source": []
  },
  {
   "cell_type": "code",
   "execution_count": null,
   "id": "f9a7156f",
   "metadata": {},
   "outputs": [],
   "source": []
  }
 ],
 "metadata": {
  "kernelspec": {
   "display_name": "Python 3 (ipykernel)",
   "language": "python",
   "name": "python3"
  },
  "language_info": {
   "codemirror_mode": {
    "name": "ipython",
    "version": 3
   },
   "file_extension": ".py",
   "mimetype": "text/x-python",
   "name": "python",
   "nbconvert_exporter": "python",
   "pygments_lexer": "ipython3",
   "version": "3.9.16"
  }
 },
 "nbformat": 4,
 "nbformat_minor": 5
}
